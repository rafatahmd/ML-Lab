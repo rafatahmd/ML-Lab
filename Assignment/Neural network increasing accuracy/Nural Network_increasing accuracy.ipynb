{
  "nbformat": 4,
  "nbformat_minor": 0,
  "metadata": {
    "colab": {
      "provenance": [],
      "collapsed_sections": [
        "V9Xjqru_Yxfz",
        "dXK4Ky14Y-mZ",
        "FQojuerXZGJp",
        "Sl3tU55KZUAB",
        "qQZK5UwiZf2Y",
        "AF_YjVImad-u",
        "otgkxkKvgapW",
        "tVYQoS3Wm5SB"
      ]
    },
    "kernelspec": {
      "name": "python3",
      "display_name": "Python 3"
    },
    "language_info": {
      "name": "python"
    }
  },
  "cells": [
    {
      "cell_type": "code",
      "execution_count": 10,
      "metadata": {
        "id": "anwwfLj2pHHx"
      },
      "outputs": [],
      "source": [
        "import keras\n",
        "from keras.models import Sequential\n",
        "import seaborn as sns\n",
        "import matplotlib.pyplot as plt\n",
        "import csv\n",
        "import numpy as np\n",
        "from numpy import loadtxt\n",
        "from keras.layers import Dense\n",
        "from keras.layers import LeakyReLU,PReLU,ELU\n",
        "from sklearn.model_selection import train_test_split\n",
        "from sklearn.metrics import confusion_matrix , classification_report, precision_score, accuracy_score\n",
        "from sklearn.model_selection import StratifiedKFold as kfold\n",
        "from keras.layers import Dropout\n",
        "from sklearn import preprocessing\n",
        "import pandas as pd"
      ]
    },
    {
      "cell_type": "code",
      "source": [
        "from google.colab import drive\n",
        "drive.mount('/content/drive')"
      ],
      "metadata": {
        "colab": {
          "base_uri": "https://localhost:8080/"
        },
        "id": "0hfYNjZQtOzz",
        "outputId": "f11f37fb-3560-4948-8db1-abf16eeaf6f6"
      },
      "execution_count": 4,
      "outputs": [
        {
          "output_type": "stream",
          "name": "stdout",
          "text": [
            "Mounted at /content/drive\n"
          ]
        }
      ]
    },
    {
      "cell_type": "code",
      "source": [
        "dataset = pd.read_csv(\"/content/drive/MyDrive/Dataset/nn_data.txt\", header=None)\n",
        "dataset"
      ],
      "metadata": {
        "colab": {
          "base_uri": "https://localhost:8080/",
          "height": 424
        },
        "id": "VYEHYq6fqGFt",
        "outputId": "79c84d2b-d633-40be-cd73-57920c7b47d0"
      },
      "execution_count": 6,
      "outputs": [
        {
          "output_type": "execute_result",
          "data": {
            "text/plain": [
              "      0    1   2   3    4     5      6   7  8\n",
              "0     6  148  72  35    0  33.6  0.627  50  1\n",
              "1     1   85  66  29    0  26.6  0.351  31  0\n",
              "2     8  183  64   0    0  23.3  0.672  32  1\n",
              "3     1   89  66  23   94  28.1  0.167  21  0\n",
              "4     0  137  40  35  168  43.1  2.288  33  1\n",
              "..   ..  ...  ..  ..  ...   ...    ...  .. ..\n",
              "763  10  101  76  48  180  32.9  0.171  63  0\n",
              "764   2  122  70  27    0  36.8  0.340  27  0\n",
              "765   5  121  72  23  112  26.2  0.245  30  0\n",
              "766   1  126  60   0    0  30.1  0.349  47  1\n",
              "767   1   93  70  31    0  30.4  0.315  23  0\n",
              "\n",
              "[768 rows x 9 columns]"
            ],
            "text/html": [
              "\n",
              "  <div id=\"df-dfbfaaf3-b528-4d6e-b67e-4683a55b11e6\">\n",
              "    <div class=\"colab-df-container\">\n",
              "      <div>\n",
              "<style scoped>\n",
              "    .dataframe tbody tr th:only-of-type {\n",
              "        vertical-align: middle;\n",
              "    }\n",
              "\n",
              "    .dataframe tbody tr th {\n",
              "        vertical-align: top;\n",
              "    }\n",
              "\n",
              "    .dataframe thead th {\n",
              "        text-align: right;\n",
              "    }\n",
              "</style>\n",
              "<table border=\"1\" class=\"dataframe\">\n",
              "  <thead>\n",
              "    <tr style=\"text-align: right;\">\n",
              "      <th></th>\n",
              "      <th>0</th>\n",
              "      <th>1</th>\n",
              "      <th>2</th>\n",
              "      <th>3</th>\n",
              "      <th>4</th>\n",
              "      <th>5</th>\n",
              "      <th>6</th>\n",
              "      <th>7</th>\n",
              "      <th>8</th>\n",
              "    </tr>\n",
              "  </thead>\n",
              "  <tbody>\n",
              "    <tr>\n",
              "      <th>0</th>\n",
              "      <td>6</td>\n",
              "      <td>148</td>\n",
              "      <td>72</td>\n",
              "      <td>35</td>\n",
              "      <td>0</td>\n",
              "      <td>33.6</td>\n",
              "      <td>0.627</td>\n",
              "      <td>50</td>\n",
              "      <td>1</td>\n",
              "    </tr>\n",
              "    <tr>\n",
              "      <th>1</th>\n",
              "      <td>1</td>\n",
              "      <td>85</td>\n",
              "      <td>66</td>\n",
              "      <td>29</td>\n",
              "      <td>0</td>\n",
              "      <td>26.6</td>\n",
              "      <td>0.351</td>\n",
              "      <td>31</td>\n",
              "      <td>0</td>\n",
              "    </tr>\n",
              "    <tr>\n",
              "      <th>2</th>\n",
              "      <td>8</td>\n",
              "      <td>183</td>\n",
              "      <td>64</td>\n",
              "      <td>0</td>\n",
              "      <td>0</td>\n",
              "      <td>23.3</td>\n",
              "      <td>0.672</td>\n",
              "      <td>32</td>\n",
              "      <td>1</td>\n",
              "    </tr>\n",
              "    <tr>\n",
              "      <th>3</th>\n",
              "      <td>1</td>\n",
              "      <td>89</td>\n",
              "      <td>66</td>\n",
              "      <td>23</td>\n",
              "      <td>94</td>\n",
              "      <td>28.1</td>\n",
              "      <td>0.167</td>\n",
              "      <td>21</td>\n",
              "      <td>0</td>\n",
              "    </tr>\n",
              "    <tr>\n",
              "      <th>4</th>\n",
              "      <td>0</td>\n",
              "      <td>137</td>\n",
              "      <td>40</td>\n",
              "      <td>35</td>\n",
              "      <td>168</td>\n",
              "      <td>43.1</td>\n",
              "      <td>2.288</td>\n",
              "      <td>33</td>\n",
              "      <td>1</td>\n",
              "    </tr>\n",
              "    <tr>\n",
              "      <th>...</th>\n",
              "      <td>...</td>\n",
              "      <td>...</td>\n",
              "      <td>...</td>\n",
              "      <td>...</td>\n",
              "      <td>...</td>\n",
              "      <td>...</td>\n",
              "      <td>...</td>\n",
              "      <td>...</td>\n",
              "      <td>...</td>\n",
              "    </tr>\n",
              "    <tr>\n",
              "      <th>763</th>\n",
              "      <td>10</td>\n",
              "      <td>101</td>\n",
              "      <td>76</td>\n",
              "      <td>48</td>\n",
              "      <td>180</td>\n",
              "      <td>32.9</td>\n",
              "      <td>0.171</td>\n",
              "      <td>63</td>\n",
              "      <td>0</td>\n",
              "    </tr>\n",
              "    <tr>\n",
              "      <th>764</th>\n",
              "      <td>2</td>\n",
              "      <td>122</td>\n",
              "      <td>70</td>\n",
              "      <td>27</td>\n",
              "      <td>0</td>\n",
              "      <td>36.8</td>\n",
              "      <td>0.340</td>\n",
              "      <td>27</td>\n",
              "      <td>0</td>\n",
              "    </tr>\n",
              "    <tr>\n",
              "      <th>765</th>\n",
              "      <td>5</td>\n",
              "      <td>121</td>\n",
              "      <td>72</td>\n",
              "      <td>23</td>\n",
              "      <td>112</td>\n",
              "      <td>26.2</td>\n",
              "      <td>0.245</td>\n",
              "      <td>30</td>\n",
              "      <td>0</td>\n",
              "    </tr>\n",
              "    <tr>\n",
              "      <th>766</th>\n",
              "      <td>1</td>\n",
              "      <td>126</td>\n",
              "      <td>60</td>\n",
              "      <td>0</td>\n",
              "      <td>0</td>\n",
              "      <td>30.1</td>\n",
              "      <td>0.349</td>\n",
              "      <td>47</td>\n",
              "      <td>1</td>\n",
              "    </tr>\n",
              "    <tr>\n",
              "      <th>767</th>\n",
              "      <td>1</td>\n",
              "      <td>93</td>\n",
              "      <td>70</td>\n",
              "      <td>31</td>\n",
              "      <td>0</td>\n",
              "      <td>30.4</td>\n",
              "      <td>0.315</td>\n",
              "      <td>23</td>\n",
              "      <td>0</td>\n",
              "    </tr>\n",
              "  </tbody>\n",
              "</table>\n",
              "<p>768 rows × 9 columns</p>\n",
              "</div>\n",
              "      <button class=\"colab-df-convert\" onclick=\"convertToInteractive('df-dfbfaaf3-b528-4d6e-b67e-4683a55b11e6')\"\n",
              "              title=\"Convert this dataframe to an interactive table.\"\n",
              "              style=\"display:none;\">\n",
              "        \n",
              "  <svg xmlns=\"http://www.w3.org/2000/svg\" height=\"24px\"viewBox=\"0 0 24 24\"\n",
              "       width=\"24px\">\n",
              "    <path d=\"M0 0h24v24H0V0z\" fill=\"none\"/>\n",
              "    <path d=\"M18.56 5.44l.94 2.06.94-2.06 2.06-.94-2.06-.94-.94-2.06-.94 2.06-2.06.94zm-11 1L8.5 8.5l.94-2.06 2.06-.94-2.06-.94L8.5 2.5l-.94 2.06-2.06.94zm10 10l.94 2.06.94-2.06 2.06-.94-2.06-.94-.94-2.06-.94 2.06-2.06.94z\"/><path d=\"M17.41 7.96l-1.37-1.37c-.4-.4-.92-.59-1.43-.59-.52 0-1.04.2-1.43.59L10.3 9.45l-7.72 7.72c-.78.78-.78 2.05 0 2.83L4 21.41c.39.39.9.59 1.41.59.51 0 1.02-.2 1.41-.59l7.78-7.78 2.81-2.81c.8-.78.8-2.07 0-2.86zM5.41 20L4 18.59l7.72-7.72 1.47 1.35L5.41 20z\"/>\n",
              "  </svg>\n",
              "      </button>\n",
              "      \n",
              "  <style>\n",
              "    .colab-df-container {\n",
              "      display:flex;\n",
              "      flex-wrap:wrap;\n",
              "      gap: 12px;\n",
              "    }\n",
              "\n",
              "    .colab-df-convert {\n",
              "      background-color: #E8F0FE;\n",
              "      border: none;\n",
              "      border-radius: 50%;\n",
              "      cursor: pointer;\n",
              "      display: none;\n",
              "      fill: #1967D2;\n",
              "      height: 32px;\n",
              "      padding: 0 0 0 0;\n",
              "      width: 32px;\n",
              "    }\n",
              "\n",
              "    .colab-df-convert:hover {\n",
              "      background-color: #E2EBFA;\n",
              "      box-shadow: 0px 1px 2px rgba(60, 64, 67, 0.3), 0px 1px 3px 1px rgba(60, 64, 67, 0.15);\n",
              "      fill: #174EA6;\n",
              "    }\n",
              "\n",
              "    [theme=dark] .colab-df-convert {\n",
              "      background-color: #3B4455;\n",
              "      fill: #D2E3FC;\n",
              "    }\n",
              "\n",
              "    [theme=dark] .colab-df-convert:hover {\n",
              "      background-color: #434B5C;\n",
              "      box-shadow: 0px 1px 3px 1px rgba(0, 0, 0, 0.15);\n",
              "      filter: drop-shadow(0px 1px 2px rgba(0, 0, 0, 0.3));\n",
              "      fill: #FFFFFF;\n",
              "    }\n",
              "  </style>\n",
              "\n",
              "      <script>\n",
              "        const buttonEl =\n",
              "          document.querySelector('#df-dfbfaaf3-b528-4d6e-b67e-4683a55b11e6 button.colab-df-convert');\n",
              "        buttonEl.style.display =\n",
              "          google.colab.kernel.accessAllowed ? 'block' : 'none';\n",
              "\n",
              "        async function convertToInteractive(key) {\n",
              "          const element = document.querySelector('#df-dfbfaaf3-b528-4d6e-b67e-4683a55b11e6');\n",
              "          const dataTable =\n",
              "            await google.colab.kernel.invokeFunction('convertToInteractive',\n",
              "                                                     [key], {});\n",
              "          if (!dataTable) return;\n",
              "\n",
              "          const docLinkHtml = 'Like what you see? Visit the ' +\n",
              "            '<a target=\"_blank\" href=https://colab.research.google.com/notebooks/data_table.ipynb>data table notebook</a>'\n",
              "            + ' to learn more about interactive tables.';\n",
              "          element.innerHTML = '';\n",
              "          dataTable['output_type'] = 'display_data';\n",
              "          await google.colab.output.renderOutput(dataTable, element);\n",
              "          const docLink = document.createElement('div');\n",
              "          docLink.innerHTML = docLinkHtml;\n",
              "          element.appendChild(docLink);\n",
              "        }\n",
              "      </script>\n",
              "    </div>\n",
              "  </div>\n",
              "  "
            ]
          },
          "metadata": {},
          "execution_count": 6
        }
      ]
    },
    {
      "cell_type": "code",
      "source": [
        "min_max_scale = preprocessing.MinMaxScaler().fit(dataset)\n",
        "min_max_scaled_dataset = min_max_scale.transform(dataset)\n",
        "min_max_scaled_dataset"
      ],
      "metadata": {
        "id": "LmOcuLisdaJH",
        "colab": {
          "base_uri": "https://localhost:8080/"
        },
        "outputId": "3ec2f0b3-60a6-40ef-a26c-175b6cc98271"
      },
      "execution_count": 8,
      "outputs": [
        {
          "output_type": "execute_result",
          "data": {
            "text/plain": [
              "array([[0.35294118, 0.74371859, 0.59016393, ..., 0.23441503, 0.48333333,\n",
              "        1.        ],\n",
              "       [0.05882353, 0.42713568, 0.54098361, ..., 0.11656704, 0.16666667,\n",
              "        0.        ],\n",
              "       [0.47058824, 0.91959799, 0.52459016, ..., 0.25362938, 0.18333333,\n",
              "        1.        ],\n",
              "       ...,\n",
              "       [0.29411765, 0.6080402 , 0.59016393, ..., 0.07130658, 0.15      ,\n",
              "        0.        ],\n",
              "       [0.05882353, 0.63316583, 0.49180328, ..., 0.11571307, 0.43333333,\n",
              "        1.        ],\n",
              "       [0.05882353, 0.46733668, 0.57377049, ..., 0.10119556, 0.03333333,\n",
              "        0.        ]])"
            ]
          },
          "metadata": {},
          "execution_count": 8
        }
      ]
    },
    {
      "cell_type": "code",
      "source": [
        "precisionScores = []\n",
        "accuracyScores = []\n",
        "X = dataset.iloc[:,0:8]\n",
        "y = dataset.iloc[:,8]\n",
        "folds = kfold(n_splits=10)\n",
        "folds"
      ],
      "metadata": {
        "id": "Cu7QVs2ef9XR",
        "colab": {
          "base_uri": "https://localhost:8080/"
        },
        "outputId": "bb08a8d7-c9d2-404b-ff0a-c778ca311568"
      },
      "execution_count": 14,
      "outputs": [
        {
          "output_type": "execute_result",
          "data": {
            "text/plain": [
              "StratifiedKFold(n_splits=10, random_state=None, shuffle=False)"
            ]
          },
          "metadata": {},
          "execution_count": 14
        }
      ]
    },
    {
      "cell_type": "code",
      "source": [
        "def ann_model(x_train,y_train,x_test,y_test,epochs,batch_size) :\n",
        "    model = Sequential();\n",
        "    model.add(Dense(8, input_shape=(8,), activation='relu'))\n",
        "    model.add(Dense(6, activation='relu'))\n",
        "    model.add(Dense(1, activation='sigmoid'))\n",
        "    model.compile( optimizer = 'adam' , loss = 'binary_crossentropy', metrics = ['accuracy'])\n",
        "    model.fit(x_train,y_train,epochs=epochs,batch_size = batch_size)\n",
        "    yp = model.predict(x_test)\n",
        "    y_pred = [] ;\n",
        "    for element in yp:\n",
        "        if element > 0.5 :\n",
        "            y_pred.append(1)\n",
        "        else :\n",
        "            y_pred.append(0)\n",
        "    print(classification_report(y_test,y_pred))\n",
        "    precisionScores.append(precision_score(y_test, y_pred))\n",
        "    accuracyScores.append(accuracy_score(y_test, y_pred))\n",
        "    "
      ],
      "metadata": {
        "id": "J54cdsyH1Knz"
      },
      "execution_count": 15,
      "outputs": []
    },
    {
      "cell_type": "code",
      "source": [
        "def ann_model_without_k_fold(X,y,epochs,batch_size) :\n",
        "    from sklearn.model_selection import train_test_split\n",
        "    X_train, X_test, y_train, y_test = train_test_split(X,y,test_size=0.3)\n",
        "    model = Sequential();\n",
        "    model.add(Dense(8, input_shape=(8,), activation='relu'))\n",
        "    model.add(Dense(6, activation='relu'))\n",
        "    model.add(Dense(1, activation='sigmoid'))\n",
        "    model.compile( optimizer = 'adam' , loss = 'binary_crossentropy', metrics = ['accuracy'])\n",
        "    model.fit(X_train,y_train,epochs=epochs,batch_size = batch_size)\n",
        "    yp = model.predict(X_test);\n",
        "    y_pred = [] ;\n",
        "    for element in yp:\n",
        "        if element > 0.5 :\n",
        "            y_pred.append(1)\n",
        "        else :\n",
        "            y_pred.append(0)\n",
        "    precisionScore = precision_score(y_test, y_pred)\n",
        "    accuracyScore = accuracy_score(y_test, y_pred)\n",
        "    return precisionScore,accuracyScore ;"
      ],
      "metadata": {
        "id": "bm0w__QGVIe_"
      },
      "execution_count": 16,
      "outputs": []
    },
    {
      "cell_type": "code",
      "source": [
        "precisionScore,accuracyScore = ann_model_without_k_fold(X,y,100,20)"
      ],
      "metadata": {
        "id": "vz21YTmxgiA0"
      },
      "execution_count": null,
      "outputs": []
    },
    {
      "cell_type": "code",
      "source": [
        "print(\"Precision\", precisionScore)\n",
        "print(\"Accuracy\", accuracyScore)"
      ],
      "metadata": {
        "colab": {
          "base_uri": "https://localhost:8080/"
        },
        "id": "FS4QOwRDguLA",
        "outputId": "56b3506e-7fb6-4d53-8791-06b7a63d2a09"
      },
      "execution_count": 18,
      "outputs": [
        {
          "output_type": "stream",
          "name": "stdout",
          "text": [
            "Precision 0.6724137931034483\n",
            "Accuracy 0.7229437229437229\n"
          ]
        }
      ]
    },
    {
      "cell_type": "code",
      "source": [
        "scaled_X = min_max_scaled_dataset[:,0:8]\n",
        "scaled_y = min_max_scaled_dataset[:,8]\n",
        "\n",
        "precisionScore,accuracyScore = ann_model_without_k_fold(scaled_X, scaled_y,100,20)"
      ],
      "metadata": {
        "id": "fBuEXglkV3jN"
      },
      "execution_count": null,
      "outputs": []
    },
    {
      "cell_type": "code",
      "source": [
        "print(\"Precision\", precisionScore)\n",
        "print(\"Accuracy\", accuracyScore)"
      ],
      "metadata": {
        "colab": {
          "base_uri": "https://localhost:8080/"
        },
        "id": "FQBe5sKag8xN",
        "outputId": "02270c97-0d6f-4957-a761-6e7191f36ad2"
      },
      "execution_count": 22,
      "outputs": [
        {
          "output_type": "stream",
          "name": "stdout",
          "text": [
            "Precision 0.6756756756756757\n",
            "Accuracy 0.7445887445887446\n"
          ]
        }
      ]
    },
    {
      "cell_type": "code",
      "source": [
        "# Implementing with K Fold validation\n",
        "for train_index, test_index in folds.split(scaled_X,scaled_y):\n",
        "   X_train, X_test = scaled_X[train_index], scaled_X[test_index]\n",
        "   y_train, y_test = scaled_y[train_index], scaled_y[test_index]\n",
        "   ann_model(X_train,y_train,X_test,y_test,100,20)"
      ],
      "metadata": {
        "id": "fF4lTADW4Y3B"
      },
      "execution_count": null,
      "outputs": []
    },
    {
      "cell_type": "code",
      "source": [
        "precisionScores "
      ],
      "metadata": {
        "colab": {
          "base_uri": "https://localhost:8080/"
        },
        "id": "HPmDX12GDBta",
        "outputId": "f200e539-8217-4ae9-aa2b-9774a636d7dc"
      },
      "execution_count": 24,
      "outputs": [
        {
          "output_type": "execute_result",
          "data": {
            "text/plain": [
              "[0.6538461538461539,\n",
              " 0.7777777777777778,\n",
              " 0.6818181818181818,\n",
              " 0.6,\n",
              " 0.6190476190476191,\n",
              " 0.7272727272727273,\n",
              " 0.75,\n",
              " 0.8095238095238095,\n",
              " 0.7,\n",
              " 0.8095238095238095]"
            ]
          },
          "metadata": {},
          "execution_count": 24
        }
      ]
    },
    {
      "cell_type": "code",
      "source": [
        "accuracyScores"
      ],
      "metadata": {
        "colab": {
          "base_uri": "https://localhost:8080/"
        },
        "id": "N3QNXFYyR7lU",
        "outputId": "4494c73f-3f47-4e81-ee66-cd758ab455e4"
      },
      "execution_count": 25,
      "outputs": [
        {
          "output_type": "execute_result",
          "data": {
            "text/plain": [
              "[0.7532467532467533,\n",
              " 0.7792207792207793,\n",
              " 0.7532467532467533,\n",
              " 0.7142857142857143,\n",
              " 0.7142857142857143,\n",
              " 0.7792207792207793,\n",
              " 0.8051948051948052,\n",
              " 0.8181818181818182,\n",
              " 0.7631578947368421,\n",
              " 0.8289473684210527]"
            ]
          },
          "metadata": {},
          "execution_count": 25
        }
      ]
    },
    {
      "cell_type": "code",
      "source": [
        "print(\"Avg Precision :  %.2f%% (+/- %.2f%%)\" % (np.mean(precisionScores), np.std(precisionScores)))\n",
        "print(\"Avg Accuracy : %.2f%% (+/- %.2f%%)\" % (np.mean(accuracyScores), np.std(accuracyScores)))"
      ],
      "metadata": {
        "colab": {
          "base_uri": "https://localhost:8080/"
        },
        "id": "P-TTP--7R9z4",
        "outputId": "e03a0193-f0b0-4477-ff4c-da676daefd4c"
      },
      "execution_count": 27,
      "outputs": [
        {
          "output_type": "stream",
          "name": "stdout",
          "text": [
            "Avg Precision :  0.71% (+/- 0.07%)\n",
            "Avg Accuracy : 0.77% (+/- 0.04%)\n"
          ]
        }
      ]
    }
  ]
}